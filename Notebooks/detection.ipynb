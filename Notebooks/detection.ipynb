{
 "cells": [
  {
   "cell_type": "code",
   "execution_count": 1,
   "metadata": {},
   "outputs": [],
   "source": [
    "import tensorflow as tf\n",
    "import numpy as np\n",
    "import cv2\n",
    "from tensorflow.keras.models import load_model"
   ]
  },
  {
   "cell_type": "code",
   "execution_count": 2,
   "metadata": {},
   "outputs": [],
   "source": [
    "model = load_model('C:/Users/Documents/Deep Learning/mask detection/mask_modelbig.h5')"
   ]
  },
  {
   "cell_type": "code",
   "execution_count": 3,
   "metadata": {},
   "outputs": [],
   "source": [
    "face_clsfr=cv2.CascadeClassifier('C:/Users/Documents/Deep Learning/mask detection/haarcascade_frontalface_default.xml')\n",
    "slabels_dict={0:'MASK',1:'NO MASK'}\n",
    "color_dict={0:(0,255,0),1:(0,0,255)}"
   ]
  },
  {
   "cell_type": "code",
   "execution_count": 4,
   "metadata": {},
   "outputs": [],
   "source": [
    "vid = cv2.VideoCapture('C:/Users/Documents/Deep Learning/mask detection/facemask.mp4')\n",
    "\n",
    "frame_width = int(vid.get(3))\n",
    "frame_height = int(vid.get(4))\n",
    "\n",
    "out = cv2.VideoWriter('output.mp4',cv2.VideoWriter_fourcc('M','P','4','V'), 25, (frame_width,frame_height))\n",
    "\n",
    "while(True):\n",
    "    ret, img = vid.read()\n",
    "    faces=face_clsfr.detectMultiScale(img,1.3,10)\n",
    "\n",
    "    if ret == True: \n",
    "        for (x,y,w,h) in faces:\n",
    "            face_img=img[y:y+w,x:x+w]\n",
    "            resized=cv2.resize(face_img,(150,150))\n",
    "            normalized=resized/255.0\n",
    "            reshaped=np.reshape(normalized,(1,150,150,3))\n",
    "            result=model.predict(reshaped)\n",
    "            label=np.argmax(result)\n",
    "            cv2.rectangle(img,(x,y),(x+w,y+h),color_dict[label],2)\n",
    "            cv2.rectangle(img,(x,y-40),(x+w,y),color_dict[label],-1)\n",
    "            cv2.putText(img, labels_dict[label],\n",
    "                        (x, y-10),cv2.FONT_HERSHEY_SIMPLEX,0.8,(255,255,255),2)\n",
    "\n",
    "        out.write(img)\n",
    "\n",
    "        cv2.imshow('frame',img)\n",
    "\n",
    "        if cv2.waitKey(1) & 0xFF == ord('q'):\n",
    "            break\n",
    "    else:\n",
    "        break  \n",
    "\n",
    "vid.release()\n",
    "out.release()\n",
    "\n",
    "cv2.destroyAllWindows() "
   ]
  }
 ],
 "metadata": {
  "kernelspec": {
   "display_name": "Python 3",
   "language": "python",
   "name": "python3"
  },
  "language_info": {
   "codemirror_mode": {
    "name": "ipython",
    "version": 3
   },
   "file_extension": ".py",
   "mimetype": "text/x-python",
   "name": "python",
   "nbconvert_exporter": "python",
   "pygments_lexer": "ipython3",
   "version": "3.7.6"
  }
 },
 "nbformat": 4,
 "nbformat_minor": 4
}
